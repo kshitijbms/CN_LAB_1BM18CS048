{
 "cells": [
  {
   "cell_type": "code",
   "execution_count": 13,
   "metadata": {},
   "outputs": [],
   "source": [
    "class Graph:\n",
    "    def __init__(self,n):\n",
    "        self.matrix=[]\n",
    "        self.n=n \n",
    "        \n",
    "    def addEdge(self, u, v, w):  \n",
    "        self.matrix.append((u, v, w)) \n",
    "        \n",
    "    def printArr(self, dist,src):\n",
    "        print(\"Routing Table of {}\".format(chr(ord('A')+src)))  \n",
    "        for i in range(self.n):  \n",
    "            print(\"{0}\\t{1}\".format(chr(ord('A')+i), dist[i]))  \n",
    "    def BellmanFord(self, src):  \n",
    "  \n",
    "        # Step 1: Initialize distances from src to all other vertices  \n",
    "        # as INFINITE  \n",
    "        dist = [99] * self.n \n",
    "        dist[src] = 0\n",
    "  \n",
    "  \n",
    "        # Step 2: Relax all edges |V| - 1 times. A simple shortest  \n",
    "        # path from src to any other vertex can have at-most |V| - 1  \n",
    "        # edges  \n",
    "        for _ in range(self.n - 1):  \n",
    "            # Update dist value and parent index of the adjacent vertices of  \n",
    "            # the picked vertex. Consider only those vertices which are still in  \n",
    "            # queue  \n",
    "            for u, v, w in self.matrix:  \n",
    "                if dist[u] != 99 and dist[u] + w < dist[v]:  \n",
    "                        dist[v] = dist[u] + w  \n",
    "        # print all distance  \n",
    "        self.printArr(dist,src)         "
   ]
  },
  {
   "cell_type": "code",
   "execution_count": 14,
   "metadata": {},
   "outputs": [],
   "source": [
    "def main():\n",
    "    matrix=[]\n",
    "    print(\"Enter No. of Nodes : \")\n",
    "    n=int(input())\n",
    "    print(\"Enter the Adjacency Matrix :\");\n",
    "    for i in range(n):\n",
    "        \n",
    "        m=[int(a) for a in input().split(\" \")]\n",
    "        matrix.append(m)\n",
    "    g=Graph(n)\n",
    "    for i in range(n):\n",
    "        for j in range(n):\n",
    "            if matrix[i][j]==1:\n",
    "                g.addEdge(i,j,1)\n",
    "    \n",
    "    for _ in range(n):\n",
    "        g.BellmanFord(_)"
   ]
  },
  {
   "cell_type": "code",
   "execution_count": 15,
   "metadata": {},
   "outputs": [
    {
     "name": "stdout",
     "output_type": "stream",
     "text": [
      "Enter No. of Nodes : \n",
      "5\n",
      "Enter the Adjacency Matrix :\n",
      "0 1 1 99 99\n",
      "1 0 99 1 1\n",
      "1 99 0 1 99\n",
      "99 1 1 0 1\n",
      "99 1 99 1 0\n",
      "Vector Table of A\n",
      "A\t0\n",
      "B\t1\n",
      "C\t1\n",
      "D\t2\n",
      "E\t2\n",
      "Vector Table of B\n",
      "A\t1\n",
      "B\t0\n",
      "C\t2\n",
      "D\t1\n",
      "E\t1\n",
      "Vector Table of C\n",
      "A\t1\n",
      "B\t2\n",
      "C\t0\n",
      "D\t1\n",
      "E\t2\n",
      "Vector Table of D\n",
      "A\t2\n",
      "B\t1\n",
      "C\t1\n",
      "D\t0\n",
      "E\t1\n",
      "Vector Table of E\n",
      "A\t2\n",
      "B\t1\n",
      "C\t2\n",
      "D\t1\n",
      "E\t0\n"
     ]
    }
   ],
   "source": [
    "main()"
   ]
  },
  {
   "cell_type": "code",
   "execution_count": null,
   "metadata": {},
   "outputs": [],
   "source": [
    "\n",
    "            \n",
    "        "
   ]
  }
 ],
 "metadata": {
  "kernelspec": {
   "display_name": "Python 3",
   "language": "python",
   "name": "python3"
  },
  "language_info": {
   "codemirror_mode": {
    "name": "ipython",
    "version": 3
   },
   "file_extension": ".py",
   "mimetype": "text/x-python",
   "name": "python",
   "nbconvert_exporter": "python",
   "pygments_lexer": "ipython3",
   "version": "3.8.3"
  }
 },
 "nbformat": 4,
 "nbformat_minor": 4
}
