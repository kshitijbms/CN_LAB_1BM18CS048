{
 "cells": [
  {
   "cell_type": "code",
   "execution_count": null,
   "metadata": {},
   "outputs": [
    {
     "name": "stdout",
     "output_type": "stream",
     "text": [
      "TCP SOCKET PROGRAM : SERVER \n",
      "Server is Up , Listening at Port : 1234 \n",
      " Client with  ('192.168.8.101', 62867) connected.\n",
      "Request for filecontent of file : Computer Network.txt Recieved. \n",
      "Request Processed\n",
      "Response Sent to ('192.168.8.101', 62867)\n",
      "----------\n",
      " Client with  ('192.168.8.101', 62873) connected.\n",
      "Request for filecontent of file : abc.txt Recieved. \n",
      "Request cannot be fullfilled\n",
      "Response Sent to ('192.168.8.101', 62873)\n",
      "----------\n"
     ]
    }
   ],
   "source": [
    "# server Side program for TCP Socket communication \n",
    "from socket import socket, AF_INET, SOCK_STREAM\n",
    "\n",
    "s=socket(AF_INET,SOCK_STREAM)\n",
    "print(\"TCP SOCKET PROGRAM : SERVER \")\n",
    "\n",
    "HEADERSIZE=10  #heder length is fixed \n",
    "ip='192.168.8.101' #IP address of the Server, can be used by any PC in LAN to connect to this server\n",
    "port=1234 #port address\n",
    "s.bind((ip,port))  #specifying the socket to be active at this Socket address\n",
    "s.listen(4)  #making the server up and running \n",
    "\n",
    "print(f\"Server is Up , Listening at Port : { port } \")\n",
    "\n",
    "while True:\n",
    "    clientsocket, clientaddr= s.accept()  #Accepting th connection request from a client \n",
    "    print(f\" Client with  {clientaddr} connected.\")\n",
    "    request=clientsocket.recv(1024) #used to recieve data from the client, assuming request is not more than 1024 bytes\n",
    "    request=request.decode('utf-8')\n",
    "    print(f\"Request for filecontent of file : { request } Recieved. \")\n",
    "    try:\n",
    "        with open(request,\"r\") as fd:\n",
    "            contents=fd.read()\n",
    "            print(\"Request Processed\")\n",
    "    except:\n",
    "        contents=\"Request cannot be fullfilled. No file exist.\"\n",
    "        print(\"Request cannot be fullfilled\")\n",
    "    # Data send == {len ...+ contents }\n",
    "    msg=f\"{len(contents):<{HEADERSIZE}}\"+contents  # header contains the length of the payload \n",
    "    clientsocket.send(bytes(msg,'utf-8')) #used to send data to the client\n",
    "    print(f\"Response Sent to { clientaddr }\")\n",
    "    print(\"-\"*10)\n",
    "\n",
    "        \n",
    "        "
   ]
  },
  {
   "cell_type": "code",
   "execution_count": null,
   "metadata": {},
   "outputs": [],
   "source": []
  }
 ],
 "metadata": {
  "kernelspec": {
   "display_name": "Python 3",
   "language": "python",
   "name": "python3"
  },
  "language_info": {
   "codemirror_mode": {
    "name": "ipython",
    "version": 3
   },
   "file_extension": ".py",
   "mimetype": "text/x-python",
   "name": "python",
   "nbconvert_exporter": "python",
   "pygments_lexer": "ipython3",
   "version": "3.8.3"
  }
 },
 "nbformat": 4,
 "nbformat_minor": 4
}
