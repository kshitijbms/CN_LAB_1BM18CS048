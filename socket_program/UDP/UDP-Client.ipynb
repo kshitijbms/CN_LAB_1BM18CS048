{
 "cells": [
  {
   "cell_type": "code",
   "execution_count": 1,
   "metadata": {},
   "outputs": [],
   "source": [
    "# Client Side program for UDP Socket communication \n",
    "from socket import socket, AF_INET, SOCK_DGRAM\n",
    "def main():\n",
    "    s=socket(AF_INET,SOCK_DGRAM)\n",
    "    print(\"UDP SOCKET PROGRAM : CLIENT  \")\n",
    "    ip='192.168.8.101' #IP address of the Server,\n",
    "    port=1234 #server port address\n",
    "    socket_addr=(ip,port)\n",
    "    request=input(\"Enter Filename : \") # requesting the filename from user\n",
    "    s.sendto(bytes(request,'utf-8'),socket_addr) #sending the request to the Server \n",
    "    print(f\"Request for contents of File : {request} sent to server.\")\n",
    "    response,addr=s.recvfrom(2048) \n",
    "    response=response.decode('utf-8')\n",
    "    if addr == (ip,port) :\n",
    "        print(\"-\"*10)\n",
    "        print(f\"Contents of file { request } : \")\n",
    "        print(response)\n",
    "        print(\"-\"*10)\n",
    "        print(\"Content Recieved.\")\n",
    "   \n"
   ]
  },
  {
   "cell_type": "code",
   "execution_count": 2,
   "metadata": {},
   "outputs": [
    {
     "name": "stdout",
     "output_type": "stream",
     "text": [
      "UDP SOCKET PROGRAM : CLIENT  \n",
      "Enter Filename : Computer Network.txt\n",
      "Request for contents of File : Computer Network.txt sent to server.\n",
      "----------\n",
      "Contents of file Computer Network.txt : \n",
      "A computer network is a group of computers that use a set of common communication protocols over digital \n",
      "interconnections for the purpose of sharing resources located on or provided by the network nodes. \n",
      "The interconnections between nodes are formed from a broad spectrum of telecommunication network \n",
      "technologies, based on physically wired, optical, and wireless radio-frequency methods that may \n",
      "be arranged in a variety of network topologies.\n",
      "\n",
      "The nodes of a computer network may be classified by many means as personal computers, servers,\n",
      " networking hardware, or general-purpose hosts. They are identified by hostnames and network addresses.\n",
      " Hostnames serve as memorable labels for the nodes, rarely changed after initial assignment. \n",
      "Network addresses serve for locating and identifying the nodes by communication protocols such \n",
      "as the Internet Protocol.\n",
      "\n",
      "Computer networks may be classified by many criteria, for example, the transmission medium used to\n",
      " carry signals, bandwidth, communications protocols to organize network traffic, the network size, \n",
      "the topology, traffic control mechanism, and organizational intent.\n",
      "\n",
      "Computer networks support many applications and services, such as access to the World Wide Web, \n",
      "digital video, digital audio, shared use of application and storage servers, printers, and \n",
      "fax machines, and use of email and instant messaging applications.\n",
      "----------\n",
      "Content Recieved.\n"
     ]
    }
   ],
   "source": [
    "main()\n"
   ]
  },
  {
   "cell_type": "code",
   "execution_count": 3,
   "metadata": {},
   "outputs": [
    {
     "name": "stdout",
     "output_type": "stream",
     "text": [
      "UDP SOCKET PROGRAM : CLIENT  \n",
      "Enter Filename : abc.txt\n",
      "Request for contents of File : abc.txt sent to server.\n",
      "----------\n",
      "Contents of file abc.txt : \n",
      "Request cannot be fullfilled. No file exist.\n",
      "----------\n",
      "Content Recieved.\n"
     ]
    }
   ],
   "source": [
    "main()\n"
   ]
  },
  {
   "cell_type": "code",
   "execution_count": null,
   "metadata": {},
   "outputs": [],
   "source": []
  }
 ],
 "metadata": {
  "kernelspec": {
   "display_name": "Python 3",
   "language": "python",
   "name": "python3"
  },
  "language_info": {
   "codemirror_mode": {
    "name": "ipython",
    "version": 3
   },
   "file_extension": ".py",
   "mimetype": "text/x-python",
   "name": "python",
   "nbconvert_exporter": "python",
   "pygments_lexer": "ipython3",
   "version": "3.8.3"
  }
 },
 "nbformat": 4,
 "nbformat_minor": 4
}
