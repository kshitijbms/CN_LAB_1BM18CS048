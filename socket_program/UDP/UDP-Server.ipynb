{
 "cells": [
  {
   "cell_type": "code",
   "execution_count": null,
   "metadata": {},
   "outputs": [
    {
     "name": "stdout",
     "output_type": "stream",
     "text": [
      "UDP SOCKET PROGRAM : SERVER \n",
      "Server is Up and Listening at Port : 1234 \n",
      "Request for filecontent of file : Computer Network.txt Recieved. \n",
      "Request Processed\n",
      "Response Sent to ('192.168.8.101', 51702)\n",
      "----------\n",
      "Request for filecontent of file : abc.txt Recieved. \n",
      "Request cannot be fullfilled\n",
      "Response Sent to ('192.168.8.101', 51703)\n",
      "----------\n"
     ]
    }
   ],
   "source": [
    "# server Side program for UDp Socket communication \n",
    "from socket import socket, AF_INET, SOCK_DGRAM\n",
    "\n",
    "s=socket(AF_INET,SOCK_DGRAM)\n",
    "print(\"UDP SOCKET PROGRAM : SERVER \")\n",
    "\n",
    "ip='192.168.8.101' #IP address of the Server, can be used by any PC in LAN to discover this server\n",
    "port=1234 #port address\n",
    "s.bind((ip,port))  #specifying the socket to be active at this Socket address \n",
    "#making the server up and running \n",
    "\n",
    "print(f\"Server is Up and Listening at Port : { port } \")\n",
    "\n",
    "while True:\n",
    "     \n",
    "    requestmsg,clientaddr=s.recvfrom(1024) #buffer size is 1024 \n",
    "    #used to recieve data from the client, assuming request is not more than 1024 bytes\n",
    "    request=requestmsg.decode('utf-8')\n",
    "    print(f\"Request for filecontent of file : { request } Recieved. \")\n",
    "    try:\n",
    "        with open(request,\"r\") as fd:\n",
    "            contents=fd.read()\n",
    "            print(\"Request Processed\")\n",
    "    except:\n",
    "        contents=\"Request cannot be fullfilled. No file exist.\"\n",
    "        print(\"Request cannot be fullfilled\")\n",
    "    msg=contents  \n",
    "    s.sendto(bytes(msg,'utf-8'),clientaddr) #used to send data to the client\n",
    "    print(f\"Response Sent to { clientaddr }\")\n",
    "    print(\"-\"*10)\n"
   ]
  },
  {
   "cell_type": "code",
   "execution_count": null,
   "metadata": {},
   "outputs": [],
   "source": []
  }
 ],
 "metadata": {
  "kernelspec": {
   "display_name": "Python 3",
   "language": "python",
   "name": "python3"
  },
  "language_info": {
   "codemirror_mode": {
    "name": "ipython",
    "version": 3
   },
   "file_extension": ".py",
   "mimetype": "text/x-python",
   "name": "python",
   "nbconvert_exporter": "python",
   "pygments_lexer": "ipython3",
   "version": "3.8.3"
  }
 },
 "nbformat": 4,
 "nbformat_minor": 4
}
